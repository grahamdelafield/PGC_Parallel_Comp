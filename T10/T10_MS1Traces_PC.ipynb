{
 "cells": [
  {
   "cell_type": "code",
   "execution_count": 1,
   "metadata": {},
   "outputs": [],
   "source": [
    "import pandas as pd \n",
    "import numpy as np \n",
    "import matplotlib.pyplot as plt\n",
    "from matplotlib.ticker import FormatStrFormatter\n",
    "import pickle\n",
    "import ntpath \n",
    "import re \n",
    "import sys \n",
    "sys.path.append(r'../.')\n",
    "from commons.data_processing import * \n",
    "from commons.my_mzml import *\n",
    "from commons.byonic import ByFile\n",
    "\n",
    "import warnings\n",
    "warnings.filterwarnings('ignore')"
   ]
  },
  {
   "cell_type": "code",
   "execution_count": 2,
   "metadata": {},
   "outputs": [],
   "source": [
    "# get byonic files\n",
    "files = get_files('.', exts=['.xlsx'])\n",
    "\n",
    "# get xml files\n",
    "xmls = get_files(r\"C:\\Users\\graha\\Desktop\\LocalData\\NT1\", exts=['.mzXML'])"
   ]
  },
  {
   "cell_type": "code",
   "execution_count": 3,
   "metadata": {},
   "outputs": [],
   "source": [
    "# create pandas dataframe from byonic output of all runs \n",
    "all_runs = pd.DataFrame()\n",
    "for file in files[:]:\n",
    "    source, _ = ntpath.splitext(ntpath.basename(file))\n",
    "    bf = ByFile(file)\n",
    "    bf.fill_no_glycans()\n",
    "    bf.remove_reverse(modify=True)\n",
    "    bf.determine_glycosites()\n",
    "    bf.filter_hits(score=100, modify=True)\n",
    "    bf.frame = bf.reduce_frame(gp_only=True)\n",
    "    bf.frame['source'] = [source]*len(bf.frame)\n",
    "    bf.frame.sort_values('z', inplace=True)\n",
    "    total = bf.total_gp()\n",
    "    unique = bf.unique_gp()\n",
    "    if all_runs.empty:\n",
    "        all_runs = unique\n",
    "    else:\n",
    "        all_runs = pd.concat([all_runs, unique])"
   ]
  },
  {
   "cell_type": "code",
   "execution_count": 4,
   "metadata": {},
   "outputs": [
    {
     "output_type": "execute_result",
     "data": {
      "text/plain": [
       "    clean_peptide           glycan  z  observed_mz  calc._mass_mh  glycosite  \\\n",
       "626      TDNATLLR  HexNAc(2)Hex(8)  2    1324.5500      2648.0813       2524   \n",
       "70    VFGSQNLTTVK  HexNAc(2)Hex(8)  2    1448.6292      2896.2338        516   \n",
       "619      TDNATLLR  HexNAc(2)Hex(9)  2    1405.5788      2810.1341       2524   \n",
       "62    VFGSQNLTTVK  HexNAc(2)Hex(6)  2    1286.5745      2572.1282        516   \n",
       "60    VFGSQNLTTVK  HexNAc(2)Hex(7)  2    1367.6025      2734.1810        516   \n",
       "\n",
       "      score  delta_mod  log_prob                           peptide  \\\n",
       "626  145.15      15.46      2.25  K.[+42.011]TDN[+1702.581]ATLLR.L   \n",
       "70   279.52      96.66      6.74        R.VFGSQN[+1702.581]LTTVK.L   \n",
       "619  135.09      44.72      3.33  K.[+42.011]TDN[+1864.634]ATLLR.L   \n",
       "62   252.84      57.99      6.31        R.VFGSQN[+1378.476]LTTVK.L   \n",
       "60   251.22      42.76      6.12        R.VFGSQN[+1540.529]LTTVK.L   \n",
       "\n",
       "                                          protein_name  source  \n",
       "626  >sp|Q8IZQ1|WDFY3_HUMAN WD repeat and FYVE doma...  BP_30C  \n",
       "70   >sp|Q9Y4L1|HYOU1_HUMAN Hypoxia up-regulated pr...  BP_30C  \n",
       "619  >sp|Q8IZQ1|WDFY3_HUMAN WD repeat and FYVE doma...  BP_30C  \n",
       "62   >sp|Q9Y4L1|HYOU1_HUMAN Hypoxia up-regulated pr...  BP_30C  \n",
       "60   >sp|Q9Y4L1|HYOU1_HUMAN Hypoxia up-regulated pr...  BP_30C  "
      ],
      "text/html": "<div>\n<style scoped>\n    .dataframe tbody tr th:only-of-type {\n        vertical-align: middle;\n    }\n\n    .dataframe tbody tr th {\n        vertical-align: top;\n    }\n\n    .dataframe thead th {\n        text-align: right;\n    }\n</style>\n<table border=\"1\" class=\"dataframe\">\n  <thead>\n    <tr style=\"text-align: right;\">\n      <th></th>\n      <th>clean_peptide</th>\n      <th>glycan</th>\n      <th>z</th>\n      <th>observed_mz</th>\n      <th>calc._mass_mh</th>\n      <th>glycosite</th>\n      <th>score</th>\n      <th>delta_mod</th>\n      <th>log_prob</th>\n      <th>peptide</th>\n      <th>protein_name</th>\n      <th>source</th>\n    </tr>\n  </thead>\n  <tbody>\n    <tr>\n      <th>626</th>\n      <td>TDNATLLR</td>\n      <td>HexNAc(2)Hex(8)</td>\n      <td>2</td>\n      <td>1324.5500</td>\n      <td>2648.0813</td>\n      <td>2524</td>\n      <td>145.15</td>\n      <td>15.46</td>\n      <td>2.25</td>\n      <td>K.[+42.011]TDN[+1702.581]ATLLR.L</td>\n      <td>&gt;sp|Q8IZQ1|WDFY3_HUMAN WD repeat and FYVE doma...</td>\n      <td>BP_30C</td>\n    </tr>\n    <tr>\n      <th>70</th>\n      <td>VFGSQNLTTVK</td>\n      <td>HexNAc(2)Hex(8)</td>\n      <td>2</td>\n      <td>1448.6292</td>\n      <td>2896.2338</td>\n      <td>516</td>\n      <td>279.52</td>\n      <td>96.66</td>\n      <td>6.74</td>\n      <td>R.VFGSQN[+1702.581]LTTVK.L</td>\n      <td>&gt;sp|Q9Y4L1|HYOU1_HUMAN Hypoxia up-regulated pr...</td>\n      <td>BP_30C</td>\n    </tr>\n    <tr>\n      <th>619</th>\n      <td>TDNATLLR</td>\n      <td>HexNAc(2)Hex(9)</td>\n      <td>2</td>\n      <td>1405.5788</td>\n      <td>2810.1341</td>\n      <td>2524</td>\n      <td>135.09</td>\n      <td>44.72</td>\n      <td>3.33</td>\n      <td>K.[+42.011]TDN[+1864.634]ATLLR.L</td>\n      <td>&gt;sp|Q8IZQ1|WDFY3_HUMAN WD repeat and FYVE doma...</td>\n      <td>BP_30C</td>\n    </tr>\n    <tr>\n      <th>62</th>\n      <td>VFGSQNLTTVK</td>\n      <td>HexNAc(2)Hex(6)</td>\n      <td>2</td>\n      <td>1286.5745</td>\n      <td>2572.1282</td>\n      <td>516</td>\n      <td>252.84</td>\n      <td>57.99</td>\n      <td>6.31</td>\n      <td>R.VFGSQN[+1378.476]LTTVK.L</td>\n      <td>&gt;sp|Q9Y4L1|HYOU1_HUMAN Hypoxia up-regulated pr...</td>\n      <td>BP_30C</td>\n    </tr>\n    <tr>\n      <th>60</th>\n      <td>VFGSQNLTTVK</td>\n      <td>HexNAc(2)Hex(7)</td>\n      <td>2</td>\n      <td>1367.6025</td>\n      <td>2734.1810</td>\n      <td>516</td>\n      <td>251.22</td>\n      <td>42.76</td>\n      <td>6.12</td>\n      <td>R.VFGSQN[+1540.529]LTTVK.L</td>\n      <td>&gt;sp|Q9Y4L1|HYOU1_HUMAN Hypoxia up-regulated pr...</td>\n      <td>BP_30C</td>\n    </tr>\n  </tbody>\n</table>\n</div>"
     },
     "metadata": {},
     "execution_count": 4
    }
   ],
   "source": [
    "all_runs.head()"
   ]
  },
  {
   "cell_type": "code",
   "execution_count": 5,
   "metadata": {},
   "outputs": [],
   "source": [
    "subset = ['PGC_30C', 'PGC_45C', 'PGC_60C',\n",
    "          'C18_30C', 'C18_45C', 'C18_60C']\n",
    "pc = all_runs[all_runs.source.isin(subset)]\n",
    "counts = pc.peptide.value_counts()\n",
    "pc = pc[pc.peptide.isin(counts[counts==6].keys())]\n",
    "\n",
    "pickle_filename = 'T10_EICs_pc.p'\n",
    "\n",
    "if os.path.exists(pickle_filename):\n",
    "    d = pickle.load(open(pickle_filename, 'rb'))\n",
    "else:\n",
    "    d = {}\n",
    "    for r in pc.peptide.unique():\n",
    "        sub = pc[pc.peptide==r]\n",
    "        s = {}\n",
    "        s['sequence'] = sub.clean_peptide.unique()\n",
    "        s['glycan'] = sub.glycan.unique()\n",
    "        s['masses'] = sub.observed_mz.values\n",
    "        s['charges'] = sub.z.values\n",
    "        s['sources'] = sub.source.values\n",
    "        s['arrays'] = []\n",
    "        d[r] = s\n",
    "\n",
    "    for peptide in d:\n",
    "        print(peptide)\n",
    "        for i, source in enumerate(d[peptide]['sources']):\n",
    "            file = [f for f in xmls if re.search(source, f)][0]\n",
    "            m = mzXML(file)\n",
    "            mass = d[peptide]['masses'][i]\n",
    "            xs, ys = m.ms1_extract(mass, tolerance=10)\n",
    "            d[peptide]['arrays'].append((xs, ys))\n",
    "    pickle.dump(d, open(pickle_filename, 'wb'))"
   ]
  },
  {
   "cell_type": "code",
   "execution_count": null,
   "metadata": {
    "scrolled": true
   },
   "outputs": [],
   "source": [
    "color_dict = {\n",
    "    'BP':'#88868F',\n",
    "    'C18':'#45648B',\n",
    "    'PGC':'#CE7830'\n",
    "}\n",
    "\n",
    "# plot each peptide \n",
    "for peptide in d:\n",
    "    data = d[peptide]['arrays']\n",
    "    masses = d[peptide]['masses']\n",
    "    charges = d[peptide]['charges']\n",
    "    sources = d[peptide]['sources']\n",
    "    glycan = d[peptide]['glycan'][0]\n",
    "    sequence = d[peptide]['sequence'][0]\n",
    "\n",
    "    title = sequence + ' + ' + glycan\n",
    "\n",
    "    fig, axs = plt.subplots(2, 3, figsize=(15,10))\n",
    "    plt.subplots_adjust(wspace=0.3, hspace=0.3)\n",
    "    for i, ax in enumerate(axs.flat):\n",
    "        arr = data[i]\n",
    "        xs, ys = arr[0], arr[1]\n",
    "        ys = gaussian_filter(ys, 2)\n",
    "        idx = np.where(ys == np.max(ys))\n",
    "\n",
    "        # ax = axs[i % 3][i // 3]\n",
    "        # plot data\n",
    "        ax = axs.flat[i]\n",
    "        color = color_dict[sources[i].split('_')[0]]\n",
    "        ax.plot(xs, ys, color=color)\n",
    "        ax.fill_between(xs, 0, ys, facecolor=color, alpha=0.4)\n",
    "        ax.set_xlim(xs[idx]-10, xs[idx]+10)\n",
    "        ax.set_ylim(0, max(ys)*1.05)\n",
    "\n",
    "        # add identifying text\n",
    "        ax.set_title(sources[i])\n",
    "        ax.text(xs[idx]+7.5, max(ys)*.95, f'm/z: {masses[i]:.2f}', ha='right')\n",
    "        ax.text(xs[idx]+7.5, max(ys)*.85, f'Charge: {charges[i]}', ha='right')\n",
    "\n",
    "        # format plots\n",
    "        ax.yaxis.set_major_formatter(FormatStrFormatter('%.1e'))\n",
    "        ax.set_facecolor('#EEEEF0')\n",
    "        ax.grid(True, color='#dadbe6')\n",
    "        ax.spines['right'].set_visible(False)\n",
    "        ax.spines['top'].set_visible(False)\n",
    "        fig.suptitle(title)\n",
    "    plt.savefig('./MS1_Traces/PC/'+title+'.png')\n",
    "    plt.savefig('./MS1_Traces/PC/'+title+'.svg')\n",
    "    plt.close()"
   ]
  },
  {
   "cell_type": "code",
   "execution_count": null,
   "metadata": {},
   "outputs": [],
   "source": []
  }
 ],
 "metadata": {
  "kernelspec": {
   "display_name": "Python 3",
   "language": "python",
   "name": "python3"
  },
  "language_info": {
   "codemirror_mode": {
    "name": "ipython",
    "version": 3
   },
   "file_extension": ".py",
   "mimetype": "text/x-python",
   "name": "python",
   "nbconvert_exporter": "python",
   "pygments_lexer": "ipython3",
   "version": "3.8.1-final"
  }
 },
 "nbformat": 4,
 "nbformat_minor": 2
}