{
 "metadata": {
  "language_info": {
   "codemirror_mode": {
    "name": "ipython",
    "version": 3
   },
   "file_extension": ".py",
   "mimetype": "text/x-python",
   "name": "python",
   "nbconvert_exporter": "python",
   "pygments_lexer": "ipython3",
   "version": "3.8.1-final"
  },
  "orig_nbformat": 2,
  "kernelspec": {
   "name": "python3",
   "display_name": "Python 3",
   "language": "python"
  }
 },
 "nbformat": 4,
 "nbformat_minor": 2,
 "cells": [
  {
   "cell_type": "code",
   "execution_count": 1,
   "metadata": {},
   "outputs": [],
   "source": [
    "import numpy as np \n",
    "import pandas as pd\n",
    "import altair as alt \n",
    "import re \n",
    "import os \n",
    "import ntpath\n",
    "import sys\n",
    "sys.path.append(r'../.')\n",
    "from commons.data_processing import *\n",
    "from modlamp.descriptors import PeptideDescriptor"
   ]
  },
  {
   "cell_type": "code",
   "execution_count": 2,
   "metadata": {},
   "outputs": [],
   "source": [
    "# get all files and pull out those belonging to 45C runs\n",
    "# 45C chosen because they provided best overall performance in peptide\n",
    "# and protein identification\n",
    "files = get_files(r'E:\\Research\\PEAKS\\20200316_PANC1_Glyco_Columns\\PANC1', exts=['-peptides.csv'])\n",
    "files = [f for f in files if re.search('45', f)]"
   ]
  },
  {
   "cell_type": "code",
   "execution_count": 3,
   "metadata": {},
   "outputs": [
    {
     "output_type": "execute_result",
     "data": {
      "text/plain": [
       "['E:\\\\Research\\\\PEAKS\\\\20200316_PANC1_Glyco_Columns\\\\PANC1\\\\BP_45\\\\protein-peptides.csv',\n",
       " 'E:\\\\Research\\\\PEAKS\\\\20200316_PANC1_Glyco_Columns\\\\PANC1\\\\C18_45\\\\protein-peptides.csv',\n",
       " 'E:\\\\Research\\\\PEAKS\\\\20200316_PANC1_Glyco_Columns\\\\PANC1\\\\PGC_45\\\\protein-peptides.csv']"
      ]
     },
     "metadata": {},
     "execution_count": 3
    }
   ],
   "source": [
    "files"
   ]
  },
  {
   "cell_type": "code",
   "execution_count": 4,
   "metadata": {},
   "outputs": [],
   "source": [
    "# create a blank DataFrame\n",
    "df = pd.DataFrame()\n",
    "# add identifier to each file and add to DF\n",
    "for file in files:\n",
    "    sub = pd.read_csv(file)\n",
    "    source = ntpath.dirname(file)\n",
    "    source = source.split('\\\\')[-1]\n",
    "    sub['source'] = [source]*len(sub)\n",
    "    if df.empty:\n",
    "        df = sub\n",
    "        continue\n",
    "    df = pd.concat([df, sub])"
   ]
  },
  {
   "cell_type": "code",
   "execution_count": 5,
   "metadata": {},
   "outputs": [],
   "source": [
    "# define function to clean peptide sequence\n",
    "def clean(s):\n",
    "    err_doc = f'Not all data entered as string: error in {s} type is {type(s)}'\n",
    "    assert isinstance(s, str), err_doc\n",
    "    regs = [r'^.\\.', r'\\(\\+.+\\..+\\)', r'\\(\\-.+\\..+\\)', r'\\..$']\n",
    "    for reg in regs:\n",
    "        s = re.sub(reg, '', s)\n",
    "    return s\n",
    "\n",
    "# define func to calculate GRAVY\n",
    "def pour(s):\n",
    "    err_doc = f'Not all data entered as string: error in {s} type is {type(s)}'\n",
    "    assert isinstance(s, str), err_doc\n",
    "    desc = PeptideDescriptor(s, 'gravy')\n",
    "    desc.calculate_global()\n",
    "    return desc.descriptor[0][0]"
   ]
  },
  {
   "cell_type": "code",
   "execution_count": 6,
   "metadata": {},
   "outputs": [],
   "source": [
    "# clean peptide sequences\n",
    "df.loc[:, 'Peptide'] = df.Peptide.map(clean)\n",
    "\n",
    "# calculate gravy scores\n",
    "df['GRAVY'] = df.Peptide.map(pour)\n",
    "\n",
    "# bin out RT values\n",
    "df['time_bin'] = df.RT // 10 * 10"
   ]
  },
  {
   "cell_type": "code",
   "execution_count": 7,
   "metadata": {},
   "outputs": [],
   "source": [
    "# add second data point to make things look nice\n",
    "sdf = df[['source', 'time_bin', 'GRAVY']]\n",
    "source = []\n",
    "times = []\n",
    "scores = []\n",
    "for r in sdf.itertuples():\n",
    "    source.extend([r[1]]*2)\n",
    "    times.append(r[2])\n",
    "    times.append(r[2]+4)\n",
    "    scores.extend([r[3]]*2)\n",
    "\n",
    "df2 = pd.DataFrame({\n",
    "    'source':source,\n",
    "    'time_bin':times,\n",
    "    'GRAVY': scores\n",
    "})"
   ]
  },
  {
   "cell_type": "code",
   "execution_count": 10,
   "metadata": {},
   "outputs": [],
   "source": [
    "domain = df2.source.unique().tolist()\n",
    "# _range = ['#43648c', '#86858f', '#cc7833']\n",
    "_range = ['#86858f', '#43648c', '#cc7833']\n",
    "\n",
    "chart = alt.Chart(df2, title='GRAVY vs. Retention Time').mark_line().encode(\n",
    "    x=alt.X('time_bin:Q', title='Time (min)',\n",
    "            axis=alt.Axis(tickCount=8)),\n",
    "    y=alt.Y('average(GRAVY):Q', title='GRAVY',\n",
    "            axis=alt.Axis(tickCount=5)),\n",
    "    color=alt.Color('source:O', scale=alt.Scale(domain=domain, range=_range))\n",
    ").properties(\n",
    "    height=500,\n",
    "    width=700\n",
    ")\n",
    "\n",
    "band = alt.Chart(df2).mark_errorband(extent='ci').encode(\n",
    "    x=alt.X('time_bin:Q', title='Time (min)'),\n",
    "    y=alt.Y('GRAVY:Q', title='GRAVY'),\n",
    "    color='source:O'\n",
    ")\n",
    "(band + chart).configure_axis(\n",
    "    labelFontSize=16,\n",
    "    titleFontSize=16\n",
    ").configure_title(\n",
    "    fontSize=18\n",
    ").save('GRAVY_over_time.svg')"
   ]
  },
  {
   "cell_type": "code",
   "execution_count": null,
   "metadata": {},
   "outputs": [],
   "source": []
  }
 ]
}