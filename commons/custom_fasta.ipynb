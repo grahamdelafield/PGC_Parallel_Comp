{
 "metadata": {
  "language_info": {
   "codemirror_mode": {
    "name": "ipython",
    "version": 3
   },
   "file_extension": ".py",
   "mimetype": "text/x-python",
   "name": "python",
   "nbconvert_exporter": "python",
   "pygments_lexer": "ipython3",
   "version": "3.8.1-final"
  },
  "orig_nbformat": 2,
  "kernelspec": {
   "name": "python3",
   "display_name": "Python 3",
   "language": "python"
  }
 },
 "nbformat": 4,
 "nbformat_minor": 2,
 "cells": [
  {
   "cell_type": "code",
   "execution_count": 1,
   "metadata": {},
   "outputs": [],
   "source": [
    "from pyteomics import fasta\n",
    "import re\n",
    "import os"
   ]
  },
  {
   "cell_type": "code",
   "execution_count": 12,
   "metadata": {},
   "outputs": [],
   "source": [
    "def customize(s, new_text, start_pos, stop_pos=None):\n",
    "    pref = s[:start_pos]\n",
    "    if stop_pos:\n",
    "        return pref + new_text + s[stop_pos:]\n",
    "    else:\n",
    "        suf = s[:start_pos]\n",
    "        return suf + new_text\n",
    "\n",
    "def grab_name(s):\n",
    "    pat = re.compile(r'\\|\\w+\\|\\w+\\s')\n",
    "    match = re.search(pat, s)\n",
    "    if not match:\n",
    "        raise Exception(f'No regex match found in {s}')\n",
    "    start, end = match.span()[0]+1, match.span()[1]-1\n",
    "    res = s[start:end]\n",
    "    return res, start, end\n",
    "\n",
    "def make_new(s, i):\n",
    "    l = s.split('|')\n",
    "    l = [s+'_'+str(i) for s in l]\n",
    "    return '|'.join(l)"
   ]
  },
  {
   "cell_type": "code",
   "execution_count": 15,
   "metadata": {},
   "outputs": [],
   "source": [
    "file = r\"C:\\Users\\graha\\Desktop\\Code\\Python\\dev\\HumanProteome.fasta\"\n",
    "sub = \"GRAHAMDELAFIELD\"\n",
    "f = fasta.read(file)\n",
    "new_data = []\n",
    "for i, (n, s) in enumerate(f):\n",
    "    new_data.append('\\n'.join([n, s]))\n",
    "    if i == 2:\n",
    "        break\n",
    "    name, start, stop = grab_name(n)\n",
    "    for j in range(len(s), 0, -1):\n",
    "        new_name = make_new(name, j+1)\n",
    "        new_name = customize(n, new_name, start, stop)\n",
    "        new_seq = customize(s, sub, j)\n",
    "        new_data.append('\\n'.join([new_name, new_seq]))\n",
    "\n",
    "\n",
    "\n"
   ]
  },
  {
   "cell_type": "code",
   "execution_count": 17,
   "metadata": {},
   "outputs": [],
   "source": [
    "with open('test_write.txt', 'w') as f:\n",
    "    f.write('\\n'.join(new_data))"
   ]
  },
  {
   "cell_type": "code",
   "execution_count": null,
   "metadata": {},
   "outputs": [],
   "source": []
  }
 ]
}